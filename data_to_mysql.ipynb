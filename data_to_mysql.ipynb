{
 "cells": [
  {
   "cell_type": "code",
   "execution_count": 1,
   "metadata": {},
   "outputs": [],
   "source": [
    "import pymysql"
   ]
  },
  {
   "cell_type": "code",
   "execution_count": 2,
   "metadata": {},
   "outputs": [],
   "source": [
    "# 데이터베이스 연결하기\n",
    "conn = pymysql.connect(host='127.0.0.1', user='apic', password='1234', db='KBODATA', charset='utf8')"
   ]
  },
  {
   "cell_type": "code",
   "execution_count": 3,
   "metadata": {},
   "outputs": [],
   "source": [
    "# 통로 만들기\n",
    "cur = conn.cursor()"
   ]
  },
  {
   "cell_type": "code",
   "execution_count": 4,
   "metadata": {},
   "outputs": [
    {
     "data": {
      "text/plain": [
       "0"
      ]
     },
     "execution_count": 4,
     "metadata": {},
     "output_type": "execute_result"
    }
   ],
   "source": [
    "# 테이블 만들기\n",
    "cur.execute(\"\"\"\n",
    "CREATE TABLE KBO_TABLE(\n",
    "    id INT AUTO_INCREMENT PRIMARY KEY,  -- 고유 ID\n",
    "    year INT,                           -- 연도\n",
    "    player_name VARCHAR(50),            -- 선수명\n",
    "    team_name VARCHAR(50),              -- 팀명\n",
    "    AVG FLOAT,                          -- 타율 (AVG)\n",
    "    G INT,                              -- 경기 수 (G)\n",
    "    PA INT,                             -- 타석 (PA)\n",
    "    AB INT,                             -- 타수 (AB)\n",
    "    R INT,                              -- 홈런 (R)\n",
    "    H INT,                              -- 안타 (H)\n",
    "    `2B` INT,                           -- 2루타 (2B)\n",
    "    `3B` INT,                           -- 3루타 (3B)\n",
    "    HR INT,                             -- 홈런 (HR)\n",
    "    RBI INT,                            -- 타점 (RBI)\n",
    "    SB INT,                             -- 도루 (SB)\n",
    "    CS INT,                             -- 도루 실패 (CS)\n",
    "    BB INT,                             -- 볼넷 (BB)\n",
    "    HBP INT,                            -- 몸에 맞는 공 (HBP)\n",
    "    SO INT,                             -- 삼진 (SO)\n",
    "    GDP INT,                            -- 병살타 (GDP)\n",
    "    E INT,                              -- 실책 (E)\n",
    "    TB INT,                             -- 총루타 (TB)\n",
    "    SAC INT,                            -- 희생타 (SAC)\n",
    "    SF INT,                             -- 희생플라이 (SF)\n",
    "    IBB INT,                            -- 고의사구 (IBB)\n",
    "    SLG FLOAT,                          -- 장타율 (SLG)\n",
    "    OBP FLOAT,                          -- 출루율 (OBP)\n",
    "    OPS FLOAT,                          -- OPS (출루율 + 장타율)\n",
    "    MH INT,                             -- 멀티히트 (MH)\n",
    "    RISP FLOAT,                         -- 득점권 타율 (RISP)\n",
    "    PH_BA FLOAT,                        -- 대타 타율 (PH-BA)\n",
    "    XBH INT,                            -- 장타 (XBH)\n",
    "    GO INT,                             -- 땅볼 (GO)\n",
    "    AO INT,                             -- 뜬공 (AO)\n",
    "    GO_AO FLOAT,                        -- 땅볼/뜬공 비율 (GO/AO)\n",
    "    GW_RBI INT,                         -- 결승타점 (GW RBI)\n",
    "    BB_K FLOAT,                         -- 볼넷/삼진 비율 (BB/K)\n",
    "    P_PA FLOAT,                         -- 타석당 투구 수 (P/PA)\n",
    "    ISOP FLOAT,                         -- 순수 장타율 (ISO Power)\n",
    "    XR FLOAT,                           -- 예상 득점 생산력 (XR)\n",
    "    GPA FLOAT                           -- 타격 생산력 지수 (GPA)\n",
    ");\n",
    "\"\"\")"
   ]
  },
  {
   "cell_type": "code",
   "execution_count": null,
   "metadata": {},
   "outputs": [],
   "source": []
  }
 ],
 "metadata": {
  "kernelspec": {
   "display_name": "kbo_crawl_venv",
   "language": "python",
   "name": "python3"
  },
  "language_info": {
   "codemirror_mode": {
    "name": "ipython",
    "version": 3
   },
   "file_extension": ".py",
   "mimetype": "text/x-python",
   "name": "python",
   "nbconvert_exporter": "python",
   "pygments_lexer": "ipython3",
   "version": "3.11.11"
  }
 },
 "nbformat": 4,
 "nbformat_minor": 2
}
